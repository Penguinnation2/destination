{
 "cells": [
  {
   "cell_type": "raw",
   "id": "bf76db3b",
   "metadata": {},
   "source": [
    "cust=pd.read_csv('customer_data.csv')"
   ]
  },
  {
   "cell_type": "markdown",
   "id": "b4020595",
   "metadata": {
    "id": "b4020595"
   },
   "source": [
    "### 1) Import Libraries"
   ]
  },
  {
   "cell_type": "raw",
   "id": "d8a4caa4",
   "metadata": {},
   "source": [
    "import pandas as pd\n",
    "import numpy as np\n",
    "import matplotlib.pyplot as plt\n",
    "import seaborn as sns"
   ]
  },
  {
   "cell_type": "markdown",
   "id": "ee6c5de9",
   "metadata": {},
   "source": [
    "### 2) To see if there are any null values in the dataset "
   ]
  },
  {
   "cell_type": "raw",
   "id": "09433eb3",
   "metadata": {},
   "source": [
    "cust=cust.dropna()"
   ]
  },
  {
   "cell_type": "markdown",
   "id": "bE88ug1-TrB3",
   "metadata": {
    "id": "bE88ug1-TrB3"
   },
   "source": [
    "### 3)  Drop all rows having Family_Size values as 7.0, 8.0 and 9.0.\n"
   ]
  },
  {
   "cell_type": "raw",
   "id": "1a4e3888",
   "metadata": {},
   "source": [
    "new_df = df[(df['Family_Size']!= 7) & (df['Family_Size']!= 8) & (df['Family_Size']!= 9)]"
   ]
  },
  {
   "cell_type": "markdown",
   "id": "85fa9e39",
   "metadata": {
    "id": "85fa9e39"
   },
   "source": [
    "### 4) Value count \n"
   ]
  },
  {
   "cell_type": "raw",
   "id": "07a49740",
   "metadata": {},
   "source": [
    "data['Columns'].value_counts()"
   ]
  },
  {
   "cell_type": "markdown",
   "id": "65d9570d",
   "metadata": {
    "id": "65d9570d"
   },
   "source": [
    "### Dropping unwanted columns\n",
    "\n"
   ]
  },
  {
   "cell_type": "raw",
   "id": "f662fb55",
   "metadata": {},
   "source": [
    "data=data.drop(['Column1',' Column2'],axis=1)\n",
    "\n",
    "example: customer=customer.drop(['CustomerID'],axis=1)\n",
    "customer"
   ]
  },
  {
   "cell_type": "markdown",
   "id": "0eece2c6",
   "metadata": {
    "id": "0eece2c6"
   },
   "source": [
    "### One hot encoding - Changing catogorical to numerical\n"
   ]
  },
  {
   "cell_type": "raw",
   "id": "5f7913fc",
   "metadata": {},
   "source": [
    "data=pd.get_dummies(data,columns=['Column1','column2])\n",
    "\n",
    "x=pd.get_dummies(cust2,columns=['Gender','Graduated','Profession','Spending_Score','Ever_Married'])"
   ]
  },
  {
   "cell_type": "markdown",
   "id": "7a9f0319",
   "metadata": {
    "id": "7a9f0319"
   },
   "source": [
    "### Outlier Detection \n"
   ]
  },
  {
   "cell_type": "raw",
   "id": "3706b4ec",
   "metadata": {
    "id": "76c38c96"
   },
   "source": [
    "from scipy.stats import zscore\n",
    "\n",
    "z_score=zscore(data)\n",
    "z_score\n",
    "\n",
    "z_score[z_score>3].count()-----------z_score[z_score<-3].count()"
   ]
  },
  {
   "cell_type": "markdown",
   "id": "7007f191",
   "metadata": {
    "id": "7007f191"
   },
   "source": [
    "### removing outliers\n"
   ]
  },
  {
   "cell_type": "raw",
   "id": "ea026878",
   "metadata": {},
   "source": [
    "filter_entry= (z_score >=-3) & (z_score <=3)"
   ]
  },
  {
   "cell_type": "markdown",
   "id": "5414c507",
   "metadata": {
    "id": "5414c507"
   },
   "source": [
    "### Removing oultiers and assigning the rest of the values to X\n"
   ]
  },
  {
   "cell_type": "raw",
   "id": "e16a2fd5",
   "metadata": {},
   "source": [
    "x=data[filter_entry]\n",
    "x"
   ]
  },
  {
   "cell_type": "markdown",
   "id": "495d6137",
   "metadata": {
    "id": "495d6137"
   },
   "source": [
    "### Dropping null values \n",
    "\n"
   ]
  },
  {
   "cell_type": "raw",
   "id": "6d748c13",
   "metadata": {},
   "source": [
    "x=x.dropna()"
   ]
  },
  {
   "cell_type": "markdown",
   "id": "7bb685f4",
   "metadata": {
    "id": "7bb685f4"
   },
   "source": [
    "### Replacing null values\n"
   ]
  },
  {
   "cell_type": "raw",
   "id": "48f2afa2",
   "metadata": {},
   "source": [
    "data.fillna(data.median(), inplace=True)"
   ]
  },
  {
   "cell_type": "markdown",
   "id": "5226b573",
   "metadata": {
    "id": "5226b573"
   },
   "source": [
    "### X - Independent Variable Y- Target Variable "
   ]
  },
  {
   "cell_type": "raw",
   "id": "70af6563",
   "metadata": {},
   "source": [
    "x=data.drop(['column1'],axis=1)\n",
    "\n",
    "\n",
    "y=data['column1']\n",
    "\n",
    "example:\n",
    "\n",
    "Dividing the data into Features and Target variable\n",
    "X = Data.drop('DefaultPayment_NxtMonth', axis=1) # Features\n",
    "y = Data['DefaultPayment_NxtMonth']"
   ]
  },
  {
   "cell_type": "markdown",
   "id": "29198064",
   "metadata": {
    "id": "29198064"
   },
   "source": [
    "## Normalization"
   ]
  },
  {
   "cell_type": "raw",
   "id": "01bc46d3",
   "metadata": {},
   "source": [
    "import pandas as pd\n",
    "from sklearn.preprocessing import Normalizer\n",
    "\n",
    "# Load data from CSV into a pandas DataFrame\n",
    "data = pd.read_csv('your_data.csv')\n",
    "\n",
    "# Extract the data as a numpy array\n",
    "X = data.values\n",
    "\n",
    "# Create a Normalizer object\n",
    "normalizer = Normalizer()\n",
    "\n",
    "# Apply normalization to the data\n",
    "X_normalized = normalizer.fit_transform(X)\n"
   ]
  },
  {
   "cell_type": "markdown",
   "id": "a34b7547",
   "metadata": {},
   "source": [
    "### Target variable label encoding"
   ]
  },
  {
   "cell_type": "raw",
   "id": "2e489a7f",
   "metadata": {
    "id": "b2f8a773"
   },
   "source": [
    "from sklearn import preprocessing\n",
    "  \n",
    "# label_encoder object knows how to understand word labels.\n",
    "label_encoder = preprocessing.LabelEncoder()\n",
    "  \n",
    "# Encode labels in column 'species'.\n",
    "df['species']= label_encoder.fit_transform(df['species'])\n",
    "  \n",
    "df['species'].unique()"
   ]
  },
  {
   "cell_type": "markdown",
   "id": "26966a05",
   "metadata": {},
   "source": [
    "### Comparing clusters"
   ]
  },
  {
   "cell_type": "raw",
   "id": "31eef2c4",
   "metadata": {},
   "source": [
    "calinski_harabasz_score\n",
    "\n",
    "from sklearn.metrics import calinski_harabasz_score\n",
    "from sklearn.cluster import KMeans\n",
    "kmeans = KMeans(n_clusters=3, random_state=42)\n",
    "kmeans.fit(X)\n",
    "score = calinski_harabasz_score(X, kmeans.labels_)\n",
    "print(\"Calinski-Harabasz Index:\", score)\n",
    "\n",
    "\n",
    "silhouette_score\n",
    "from sklearn.metrics import silhouette_score\n",
    "from sklearn.cluster import KMeans\n",
    "kmeans = KMeans(n_clusters=3, random_state=42)\n",
    "kmeans.fit(X)\n",
    "score = silhouette_score(X, kmeans.labels_)\n",
    "print(\"Silhouette Score:\", score)\n",
    "\n",
    "davies_bouldin_score\n",
    "from sklearn.metrics import davies_bouldin_score\n",
    "from sklearn.cluster import KMeans\n",
    "kmeans = KMeans(n_clusters=3, random_state=42)\n",
    "kmeans.fit(X)\n",
    "score = davies_bouldin_score(X, kmeans.labels_)\n",
    "print(\"Davies-Bouldin Index:\", score)"
   ]
  },
  {
   "cell_type": "markdown",
   "id": "UY-4t6GDVcW8",
   "metadata": {
    "id": "UY-4t6GDVcW8"
   },
   "source": [
    "### Plot for model performance "
   ]
  },
  {
   "cell_type": "raw",
   "id": "ec9966ff",
   "metadata": {},
   "source": [
    "from sklearn.cluster import KMeans\n",
    "from sklearn.metrics import silhouette_score\n",
    "import matplotlib.pyplot as plt\n",
    "import numpy as np\n",
    "\n",
    "# Generate random data for clustering\n",
    "X = np.random.rand(100, 2)\n",
    "\n",
    "# Create a list of different numbers of clusters to test\n",
    "cluster_range = range(2, 11)\n",
    "\n",
    "# Calculate the Silhouette Score for each number of clusters\n",
    "scores = []\n",
    "for n_clusters in cluster_range:\n",
    "    clusterer = KMeans(n_clusters=n_clusters)\n",
    "    cluster_labels = clusterer.fit_predict(X)\n",
    "    silhouette_avg = silhouette_score(X, cluster_labels)\n",
    "    scores.append(silhouette_avg)\n",
    "\n",
    "# Plot the Silhouette Score for each number of clusters\n",
    "plt.plot(cluster_range, scores)\n",
    "plt.xlabel('Number of clusters')\n",
    "plt.ylabel('Silhouette Score')\n",
    "plt.show()\n"
   ]
  }
 ],
 "metadata": {
  "colab": {
   "provenance": []
  },
  "kernelspec": {
   "display_name": "Python 3 (ipykernel)",
   "language": "python",
   "name": "python3"
  },
  "language_info": {
   "codemirror_mode": {
    "name": "ipython",
    "version": 3
   },
   "file_extension": ".py",
   "mimetype": "text/x-python",
   "name": "python",
   "nbconvert_exporter": "python",
   "pygments_lexer": "ipython3",
   "version": "3.9.12"
  }
 },
 "nbformat": 4,
 "nbformat_minor": 5
}
